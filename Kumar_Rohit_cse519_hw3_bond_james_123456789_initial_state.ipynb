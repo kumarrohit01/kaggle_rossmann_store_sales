{
  "nbformat": 4,
  "nbformat_minor": 0,
  "metadata": {
    "colab": {
      "name": "Kumar Rohit - cse519_hw3_bond_james_123456789.ipynb",
      "provenance": [],
      "collapsed_sections": [],
      "include_colab_link": true
    },
    "kernelspec": {
      "name": "python3",
      "display_name": "Python 3"
    },
    "language_info": {
      "name": "python"
    }
  },
  "cells": [
    {
      "cell_type": "markdown",
      "metadata": {
        "id": "view-in-github",
        "colab_type": "text"
      },
      "source": [
        "<a href=\"https://colab.research.google.com/github/kumarrohit01/kaggle_rossmann_store_sales/blob/master/Kumar_Rohit_cse519_hw3_bond_james_123456789_initial_state.ipynb\" target=\"_parent\"><img src=\"https://colab.research.google.com/assets/colab-badge.svg\" alt=\"Open In Colab\"/></a>"
      ]
    },
    {
      "cell_type": "markdown",
      "metadata": {
        "id": "Alr9A33BXHvP"
      },
      "source": [
        "## <u>**Use the \"Text\" blocks to provide explanations wherever you find them necessary. Highlight your answers inside these text fields to ensure that we don't miss it while grading your HW.**</u> "
      ]
    },
    {
      "cell_type": "markdown",
      "metadata": {
        "id": "vIOjh3AvYWxH"
      },
      "source": [
        "## **Setup**\n",
        "\n",
        "- Code to download the data directly from the colab notebook.\n",
        "- If you find it easier to download the data from the kaggle website (and uploading it to your drive), you can skip this section."
      ]
    },
    {
      "cell_type": "code",
      "metadata": {
        "id": "lE-oUHZNYlME",
        "colab": {
          "base_uri": "https://localhost:8080/"
        },
        "outputId": "8bb37fd9-e66c-4af1-e52e-49ba34b272a1"
      },
      "source": [
        "# First mount your drive before running these cells. \n",
        "# Create a folder for the this HW and change to that dir\n",
        "%cd drive/MyDrive/CSE\\ 519\\ fall\\ 2021/HW3"
      ],
      "execution_count": null,
      "outputs": [
        {
          "output_type": "stream",
          "name": "stdout",
          "text": [
            "[Errno 2] No such file or directory: 'drive/MyDrive/CSE 519 fall 2021/HW3'\n",
            "/content/drive/MyDrive/CSE 519 fall 2021/HW3\n"
          ]
        }
      ]
    },
    {
      "cell_type": "code",
      "metadata": {
        "colab": {
          "base_uri": "https://localhost:8080/"
        },
        "id": "dVKmAV1wWWu2",
        "outputId": "2c3e57b0-4f3f-4fb5-e3c4-2dbf184df2e5"
      },
      "source": [
        "from google.colab import drive\n",
        "drive.mount('/content/drive')"
      ],
      "execution_count": null,
      "outputs": [
        {
          "output_type": "stream",
          "name": "stdout",
          "text": [
            "Mounted at /content/drive\n"
          ]
        }
      ]
    },
    {
      "cell_type": "code",
      "metadata": {
        "id": "hwwNGPowVz1I"
      },
      "source": [
        "!pip install -q kaggle"
      ],
      "execution_count": null,
      "outputs": []
    },
    {
      "cell_type": "code",
      "metadata": {
        "id": "ArePZv5vV7Ui"
      },
      "source": [
        "from google.colab import files\n",
        "# Create a new API token under \"Account\" in the kaggle webpage and download the json file\n",
        "# Upload the file by clicking on the browse \n",
        "files.upload()"
      ],
      "execution_count": null,
      "outputs": []
    },
    {
      "cell_type": "code",
      "metadata": {
        "id": "VOicZcjSWwTs"
      },
      "source": [
        "%cp kaggle.json /root/.kaggle/"
      ],
      "execution_count": null,
      "outputs": []
    },
    {
      "cell_type": "code",
      "metadata": {
        "colab": {
          "base_uri": "https://localhost:8080/"
        },
        "id": "BRcVxAIPWpWb",
        "outputId": "f2953217-222f-45f7-fc6d-3e75e11ce911"
      },
      "source": [
        "!kaggle competitions download -c  rossmann-store-sales"
      ],
      "execution_count": null,
      "outputs": [
        {
          "output_type": "stream",
          "name": "stdout",
          "text": [
            "Warning: Looks like you're using an outdated API Version, please consider updating (server 1.5.12 / client 1.5.4)\n",
            "Downloading test.csv.zip to /content/drive/My Drive/CSE 519 fall 2021/HW3\n",
            "  0% 0.00/192k [00:00<?, ?B/s]\n",
            "100% 192k/192k [00:00<00:00, 12.6MB/s]\n",
            "Downloading sample_submission.csv to /content/drive/My Drive/CSE 519 fall 2021/HW3\n",
            "  0% 0.00/310k [00:00<?, ?B/s]\n",
            "100% 310k/310k [00:00<00:00, 19.6MB/s]\n",
            "Downloading train.csv.zip to /content/drive/My Drive/CSE 519 fall 2021/HW3\n",
            " 45% 3.00M/6.71M [00:00<00:00, 28.9MB/s]\n",
            "100% 6.71M/6.71M [00:00<00:00, 42.8MB/s]\n",
            "Downloading store.csv to /content/drive/My Drive/CSE 519 fall 2021/HW3\n",
            "  0% 0.00/44.0k [00:00<?, ?B/s]\n",
            "100% 44.0k/44.0k [00:00<00:00, 5.70MB/s]\n"
          ]
        }
      ]
    },
    {
      "cell_type": "code",
      "metadata": {
        "colab": {
          "base_uri": "https://localhost:8080/"
        },
        "id": "r_wCz2xJbCR-",
        "outputId": "24e9b71c-ef58-4943-c3ee-3f241f2907ec"
      },
      "source": [
        "%ls"
      ],
      "execution_count": null,
      "outputs": [
        {
          "output_type": "stream",
          "name": "stdout",
          "text": [
            "cse519_hw3_bond_james_123456789.ipynb  sample_submission.csv  test.csv.zip\n",
            "kaggle.json                            store.csv              train.csv.zip\n"
          ]
        }
      ]
    },
    {
      "cell_type": "markdown",
      "metadata": {
        "id": "8GtADEq4Zw1g"
      },
      "source": [
        "## **Section 1: Library and Data Imports (Q1)**\n",
        "\n",
        "- Import your libraries and read the data into a dataframe. Print the head of the dataframe. "
      ]
    },
    {
      "cell_type": "code",
      "metadata": {
        "id": "uXHCH_wAXyEf"
      },
      "source": [
        "#fill in dtypes dict for efficient memory utilization\n",
        "dtypes = {}"
      ],
      "execution_count": null,
      "outputs": []
    },
    {
      "cell_type": "markdown",
      "metadata": {
        "id": "lwCqDB9DUw7t"
      },
      "source": [
        "## **Section 2: Effect of Holidays (Q2)**"
      ]
    },
    {
      "cell_type": "markdown",
      "metadata": {
        "id": "1wEXze7jU6Lx"
      },
      "source": [
        "## **Section 3: Most and Least selling stores (Q3a & Q3b)**"
      ]
    },
    {
      "cell_type": "markdown",
      "metadata": {
        "id": "6VcDL3PrH-UH"
      },
      "source": [
        "## **Section 4: Closest Competitor: Distance and Age (Q4a & Q4b)**"
      ]
    },
    {
      "cell_type": "markdown",
      "metadata": {
        "id": "rO9YsG96X-7t"
      },
      "source": [
        "## **Section 5: Pearson Correlation of Features (Q5)**"
      ]
    },
    {
      "cell_type": "markdown",
      "metadata": {
        "id": "ylT6xzFmVfT-"
      },
      "source": [
        "## **Section 6: Permutation Testing (Q6)**"
      ]
    },
    {
      "cell_type": "markdown",
      "metadata": {
        "id": "g8VNweURVXip"
      },
      "source": [
        "## **Section 7: Interesting findings (Q7)**"
      ]
    },
    {
      "cell_type": "markdown",
      "metadata": {
        "id": "WmJ8gezsVkz4"
      },
      "source": [
        "## **Section 8: Train Test Split and Modelling (Q8)**"
      ]
    },
    {
      "cell_type": "markdown",
      "metadata": {
        "id": "JlA734M3Yg5c"
      },
      "source": [
        "## **Section 9: t-test (Q9)**"
      ]
    },
    {
      "cell_type": "markdown",
      "metadata": {
        "id": "5RzjvrYtVs-V"
      },
      "source": [
        "## **Section 10: Screenshots (Q10)** "
      ]
    },
    {
      "cell_type": "markdown",
      "metadata": {
        "id": "wVkK-WfdV73b"
      },
      "source": [
        "Public Score & Highest Rank: \n",
        "\n",
        "Private Score & Highest Rank:\n",
        "\n",
        "Kaggle profile link:\n",
        "\n",
        "Screenshot(s):"
      ]
    }
  ]
}